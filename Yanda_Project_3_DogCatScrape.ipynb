{
 "cells": [
  {
   "cell_type": "markdown",
   "id": "1c673038",
   "metadata": {},
   "source": [
    "<img src=\"http://imgur.com/1ZcRyrc.png\" style=\"float: left; margin: 20px; height: 55px\">\n",
    "\n",
    "# Project 3: Webs APIs and NLP\n",
    "## Webscrapping Reddit Threads\n",
    "## Yanda DSI 33"
   ]
  },
  {
   "cell_type": "markdown",
   "id": "d0100faf",
   "metadata": {},
   "source": [
    "# Webscrapping"
   ]
  },
  {
   "cell_type": "markdown",
   "id": "1b6375e7",
   "metadata": {},
   "source": [
    "# Import Libraries"
   ]
  },
  {
   "cell_type": "code",
   "execution_count": 11,
   "id": "f0e3110f",
   "metadata": {},
   "outputs": [],
   "source": [
    "import pandas as pd\n",
    "import requests\n",
    "import time"
   ]
  },
  {
   "cell_type": "code",
   "execution_count": 12,
   "id": "daa1e974",
   "metadata": {},
   "outputs": [],
   "source": [
    "# using the push shift API to obtain reddit thread\n",
    "url = 'https://api.pushshift.io/reddit/search/submission'"
   ]
  },
  {
   "cell_type": "code",
   "execution_count": 13,
   "id": "623770d4",
   "metadata": {},
   "outputs": [
    {
     "data": {
      "text/plain": [
       "<Response [200]>"
      ]
     },
     "execution_count": 13,
     "metadata": {},
     "output_type": "execute_result"
    }
   ],
   "source": [
    "requests.get(url)"
   ]
  },
  {
   "cell_type": "code",
   "execution_count": 14,
   "id": "7ac5fb9a",
   "metadata": {},
   "outputs": [],
   "source": [
    "i = 0\n",
    "cat_posts = []\n",
    "dog_posts = []\n",
    "\n",
    "for i in range(8): #iterate four times as the size per pull is 250\n",
    "    before = i\n",
    "    cat_dict = requests.get(url, params = {'subreddit' : 'CatAdvice', 'size' : 250, 'before' : f\"{before}d\"}).json()\n",
    "    dog_dict = requests.get(url, params = {'subreddit' : 'DogAdvice', 'size' : 250, 'before' : f\"{before}d\"}).json()\n",
    "    \n",
    "    cat_posts.extend(cat_dict['data'])\n",
    "    dog_posts.extend(dog_dict['data'])\n",
    "    \n",
    "    i += 1\n",
    "    "
   ]
  },
  {
   "cell_type": "code",
   "execution_count": 15,
   "id": "64536e49",
   "metadata": {},
   "outputs": [
    {
     "name": "stdout",
     "output_type": "stream",
     "text": [
      "2000\n",
      "2000\n"
     ]
    }
   ],
   "source": [
    "print(len(cat_posts))\n",
    "print(len(dog_posts))"
   ]
  },
  {
   "cell_type": "code",
   "execution_count": 16,
   "id": "f90269d2",
   "metadata": {},
   "outputs": [],
   "source": [
    "d_df = pd.DataFrame(dog_posts)"
   ]
  },
  {
   "cell_type": "code",
   "execution_count": 17,
   "id": "a9e21d87",
   "metadata": {},
   "outputs": [
    {
     "data": {
      "text/html": [
       "<div>\n",
       "<style scoped>\n",
       "    .dataframe tbody tr th:only-of-type {\n",
       "        vertical-align: middle;\n",
       "    }\n",
       "\n",
       "    .dataframe tbody tr th {\n",
       "        vertical-align: top;\n",
       "    }\n",
       "\n",
       "    .dataframe thead th {\n",
       "        text-align: right;\n",
       "    }\n",
       "</style>\n",
       "<table border=\"1\" class=\"dataframe\">\n",
       "  <thead>\n",
       "    <tr style=\"text-align: right;\">\n",
       "      <th></th>\n",
       "      <th>subreddit</th>\n",
       "      <th>title</th>\n",
       "      <th>selftext</th>\n",
       "    </tr>\n",
       "  </thead>\n",
       "  <tbody>\n",
       "    <tr>\n",
       "      <th>0</th>\n",
       "      <td>DogAdvice</td>\n",
       "      <td>Year old Dachsund uses the bathroom inside aft...</td>\n",
       "      <td>Basically the title.\\n\\nI have a just over a y...</td>\n",
       "    </tr>\n",
       "    <tr>\n",
       "      <th>1</th>\n",
       "      <td>DogAdvice</td>\n",
       "      <td>I'm moving into a new apartment and my landlor...</td>\n",
       "      <td>My dog is 14. She was my childhood dog. Now th...</td>\n",
       "    </tr>\n",
       "    <tr>\n",
       "      <th>2</th>\n",
       "      <td>DogAdvice</td>\n",
       "      <td>Am I being ripped off?</td>\n",
       "      <td>I know this might be hard to answer bc of regi...</td>\n",
       "    </tr>\n",
       "    <tr>\n",
       "      <th>3</th>\n",
       "      <td>DogAdvice</td>\n",
       "      <td>Similar chews to Yak Chews?</td>\n",
       "      <td>New adolescent Saint rescue owner here, and I’...</td>\n",
       "    </tr>\n",
       "    <tr>\n",
       "      <th>4</th>\n",
       "      <td>DogAdvice</td>\n",
       "      <td>behavioral help with my dog</td>\n",
       "      <td>I adopted a sweet dog from the SPCA about a ye...</td>\n",
       "    </tr>\n",
       "  </tbody>\n",
       "</table>\n",
       "</div>"
      ],
      "text/plain": [
       "   subreddit                                              title  \\\n",
       "0  DogAdvice  Year old Dachsund uses the bathroom inside aft...   \n",
       "1  DogAdvice  I'm moving into a new apartment and my landlor...   \n",
       "2  DogAdvice                             Am I being ripped off?   \n",
       "3  DogAdvice                        Similar chews to Yak Chews?   \n",
       "4  DogAdvice                        behavioral help with my dog   \n",
       "\n",
       "                                            selftext  \n",
       "0  Basically the title.\\n\\nI have a just over a y...  \n",
       "1  My dog is 14. She was my childhood dog. Now th...  \n",
       "2  I know this might be hard to answer bc of regi...  \n",
       "3  New adolescent Saint rescue owner here, and I’...  \n",
       "4  I adopted a sweet dog from the SPCA about a ye...  "
      ]
     },
     "execution_count": 17,
     "metadata": {},
     "output_type": "execute_result"
    }
   ],
   "source": [
    "d_df[['subreddit', 'title', 'selftext']].head()\n",
    "# this are the relevant columns we require for our model to work"
   ]
  },
  {
   "cell_type": "code",
   "execution_count": 18,
   "id": "c3a041b4",
   "metadata": {},
   "outputs": [],
   "source": [
    "c_df = pd.DataFrame(cat_posts)"
   ]
  },
  {
   "cell_type": "code",
   "execution_count": 19,
   "id": "8f419040",
   "metadata": {},
   "outputs": [
    {
     "data": {
      "text/html": [
       "<div>\n",
       "<style scoped>\n",
       "    .dataframe tbody tr th:only-of-type {\n",
       "        vertical-align: middle;\n",
       "    }\n",
       "\n",
       "    .dataframe tbody tr th {\n",
       "        vertical-align: top;\n",
       "    }\n",
       "\n",
       "    .dataframe thead th {\n",
       "        text-align: right;\n",
       "    }\n",
       "</style>\n",
       "<table border=\"1\" class=\"dataframe\">\n",
       "  <thead>\n",
       "    <tr style=\"text-align: right;\">\n",
       "      <th></th>\n",
       "      <th>subreddit</th>\n",
       "      <th>title</th>\n",
       "      <th>selftext</th>\n",
       "    </tr>\n",
       "  </thead>\n",
       "  <tbody>\n",
       "    <tr>\n",
       "      <th>0</th>\n",
       "      <td>CatAdvice</td>\n",
       "      <td>How often do you play with your cats?</td>\n",
       "      <td>[removed]</td>\n",
       "    </tr>\n",
       "    <tr>\n",
       "      <th>1</th>\n",
       "      <td>CatAdvice</td>\n",
       "      <td>Ideas for cat proofing?</td>\n",
       "      <td>[removed]</td>\n",
       "    </tr>\n",
       "    <tr>\n",
       "      <th>2</th>\n",
       "      <td>CatAdvice</td>\n",
       "      <td>Is my cat depressed?</td>\n",
       "      <td>[removed]</td>\n",
       "    </tr>\n",
       "    <tr>\n",
       "      <th>3</th>\n",
       "      <td>CatAdvice</td>\n",
       "      <td>Anxious Cat Advice</td>\n",
       "      <td>[removed]</td>\n",
       "    </tr>\n",
       "    <tr>\n",
       "      <th>4</th>\n",
       "      <td>CatAdvice</td>\n",
       "      <td>My cat has decided to start peeing in her wate...</td>\n",
       "      <td>TL;DR: My perfectly healthy cat has decided to...</td>\n",
       "    </tr>\n",
       "  </tbody>\n",
       "</table>\n",
       "</div>"
      ],
      "text/plain": [
       "   subreddit                                              title  \\\n",
       "0  CatAdvice              How often do you play with your cats?   \n",
       "1  CatAdvice                            Ideas for cat proofing?   \n",
       "2  CatAdvice                               Is my cat depressed?   \n",
       "3  CatAdvice                                 Anxious Cat Advice   \n",
       "4  CatAdvice  My cat has decided to start peeing in her wate...   \n",
       "\n",
       "                                            selftext  \n",
       "0                                          [removed]  \n",
       "1                                          [removed]  \n",
       "2                                          [removed]  \n",
       "3                                          [removed]  \n",
       "4  TL;DR: My perfectly healthy cat has decided to...  "
      ]
     },
     "execution_count": 19,
     "metadata": {},
     "output_type": "execute_result"
    }
   ],
   "source": [
    "c_df[['subreddit', 'title', 'selftext']].head()"
   ]
  },
  {
   "cell_type": "code",
   "execution_count": null,
   "id": "9800ae05",
   "metadata": {},
   "outputs": [],
   "source": [
    "dog_df = d_df[['subreddit', 'title', 'selftext']]\n",
    "cat_df = c_df[['subreddit', 'title', 'selftext']]\n",
    "\n",
    "dog_df.to_csv('dog_csv')\n",
    "cat_df.to_csv('cat_csv')"
   ]
  }
 ],
 "metadata": {
  "kernelspec": {
   "display_name": "Python 3 (ipykernel)",
   "language": "python",
   "name": "python3"
  },
  "language_info": {
   "codemirror_mode": {
    "name": "ipython",
    "version": 3
   },
   "file_extension": ".py",
   "mimetype": "text/x-python",
   "name": "python",
   "nbconvert_exporter": "python",
   "pygments_lexer": "ipython3",
   "version": "3.9.12"
  }
 },
 "nbformat": 4,
 "nbformat_minor": 5
}
